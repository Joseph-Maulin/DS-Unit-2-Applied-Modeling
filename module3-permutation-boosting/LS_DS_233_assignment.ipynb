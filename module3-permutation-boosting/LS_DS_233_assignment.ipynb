{
  "nbformat": 4,
  "nbformat_minor": 0,
  "metadata": {
    "kernelspec": {
      "display_name": "Python 3",
      "language": "python",
      "name": "python3"
    },
    "language_info": {
      "codemirror_mode": {
        "name": "ipython",
        "version": 3
      },
      "file_extension": ".py",
      "mimetype": "text/x-python",
      "name": "python",
      "nbconvert_exporter": "python",
      "pygments_lexer": "ipython3",
      "version": "3.7.3"
    },
    "colab": {
      "name": "LS_DS_233_assignment.ipynb",
      "provenance": []
    }
  },
  "cells": [
    {
      "cell_type": "markdown",
      "metadata": {
        "colab_type": "text",
        "id": "nCc3XZEyG3XV"
      },
      "source": [
        "Lambda School Data Science\n",
        "\n",
        "*Unit 2, Sprint 3, Module 3*\n",
        "\n",
        "---\n",
        "\n",
        "\n",
        "# Permutation & Boosting\n",
        "\n",
        "You will use your portfolio project dataset for all assignments this sprint.\n",
        "\n",
        "## Assignment\n",
        "\n",
        "Complete these tasks for your project, and document your work.\n",
        "\n",
        "- [ ] If you haven't completed assignment #1, please do so first.\n",
        "- [ ] Continue to clean and explore your data. Make exploratory visualizations.\n",
        "- [ ] Fit a model. Does it beat your baseline? \n",
        "- [ ] Try xgboost.\n",
        "- [ ] Get your model's permutation importances.\n",
        "\n",
        "You should try to complete an initial model today, because the rest of the week, we're making model interpretation visualizations.\n",
        "\n",
        "But, if you aren't ready to try xgboost and permutation importances with your dataset today, that's okay. You can practice with another dataset instead. You may choose any dataset you've worked with previously.\n",
        "\n",
        "The data subdirectory includes the Titanic dataset for classification and the NYC apartments dataset for regression. You may want to choose one of these datasets, because example solutions will be available for each.\n",
        "\n",
        "\n",
        "## Reading\n",
        "\n",
        "Top recommendations in _**bold italic:**_\n",
        "\n",
        "#### Permutation Importances\n",
        "- _**[Kaggle / Dan Becker: Machine Learning Explainability](https://www.kaggle.com/dansbecker/permutation-importance)**_\n",
        "- [Christoph Molnar: Interpretable Machine Learning](https://christophm.github.io/interpretable-ml-book/feature-importance.html)\n",
        "\n",
        "#### (Default) Feature Importances\n",
        "  - [Ando Saabas: Selecting good features, Part 3, Random Forests](https://blog.datadive.net/selecting-good-features-part-iii-random-forests/)\n",
        "  - [Terence Parr, et al: Beware Default Random Forest Importances](https://explained.ai/rf-importance/index.html)\n",
        "\n",
        "#### Gradient Boosting\n",
        "  - [A Gentle Introduction to the Gradient Boosting Algorithm for Machine Learning](https://machinelearningmastery.com/gentle-introduction-gradient-boosting-algorithm-machine-learning/)\n",
        "  - [An Introduction to Statistical Learning](http://www-bcf.usc.edu/~gareth/ISL/ISLR%20Seventh%20Printing.pdf), Chapter 8\n",
        "  - _**[Gradient Boosting Explained](https://www.gormanalysis.com/blog/gradient-boosting-explained/)**_ — Ben Gorman\n",
        "  - [Gradient Boosting Explained](http://arogozhnikov.github.io/2016/06/24/gradient_boosting_explained.html) — Alex Rogozhnikov\n",
        "  - [How to explain gradient boosting](https://explained.ai/gradient-boosting/) — Terence Parr & Jeremy Howard"
      ]
    },
    {
      "cell_type": "code",
      "metadata": {
        "id": "ybilkRh2vhGs",
        "colab_type": "code",
        "colab": {
          "resources": {
            "http://localhost:8080/nbextensions/google.colab/files.js": {
              "data": "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",
              "ok": true,
              "headers": [
                [
                  "content-type",
                  "application/javascript"
                ]
              ],
              "status": 200,
              "status_text": ""
            }
          },
          "base_uri": "https://localhost:8080/",
          "height": 74
        },
        "outputId": "b10b0275-325f-429f-da98-d0c479e8fbc7"
      },
      "source": [
        "from google.colab import files\n",
        "\n",
        "uploaded = files.upload()"
      ],
      "execution_count": 1,
      "outputs": [
        {
          "output_type": "display_data",
          "data": {
            "text/html": [
              "\n",
              "     <input type=\"file\" id=\"files-ca86973c-43bb-401a-a50c-34de396edc5e\" name=\"files[]\" multiple disabled />\n",
              "     <output id=\"result-ca86973c-43bb-401a-a50c-34de396edc5e\">\n",
              "      Upload widget is only available when the cell has been executed in the\n",
              "      current browser session. Please rerun this cell to enable.\n",
              "      </output>\n",
              "      <script src=\"/nbextensions/google.colab/files.js\"></script> "
            ],
            "text/plain": [
              "<IPython.core.display.HTML object>"
            ]
          },
          "metadata": {
            "tags": []
          }
        },
        {
          "output_type": "stream",
          "text": [
            "Saving Video_Games_Sales_as_at_22_Dec_2016.csv to Video_Games_Sales_as_at_22_Dec_2016.csv\n"
          ],
          "name": "stdout"
        }
      ]
    },
    {
      "cell_type": "code",
      "metadata": {
        "id": "gFWTME-NvyFN",
        "colab_type": "code",
        "colab": {}
      },
      "source": [
        "import pandas as pd\n",
        "\n",
        "df = pd.read_csv('Video_Games_Sales_as_at_22_Dec_2016.csv')"
      ],
      "execution_count": 0,
      "outputs": []
    },
    {
      "cell_type": "code",
      "metadata": {
        "id": "mQmx373rv5hW",
        "colab_type": "code",
        "colab": {
          "base_uri": "https://localhost:8080/",
          "height": 204
        },
        "outputId": "20a64ea3-d896-4f41-9ecb-34110d2b441f"
      },
      "source": [
        "df.head()"
      ],
      "execution_count": 3,
      "outputs": [
        {
          "output_type": "execute_result",
          "data": {
            "text/html": [
              "<div>\n",
              "<style scoped>\n",
              "    .dataframe tbody tr th:only-of-type {\n",
              "        vertical-align: middle;\n",
              "    }\n",
              "\n",
              "    .dataframe tbody tr th {\n",
              "        vertical-align: top;\n",
              "    }\n",
              "\n",
              "    .dataframe thead th {\n",
              "        text-align: right;\n",
              "    }\n",
              "</style>\n",
              "<table border=\"1\" class=\"dataframe\">\n",
              "  <thead>\n",
              "    <tr style=\"text-align: right;\">\n",
              "      <th></th>\n",
              "      <th>Name</th>\n",
              "      <th>Platform</th>\n",
              "      <th>Year_of_Release</th>\n",
              "      <th>Genre</th>\n",
              "      <th>Publisher</th>\n",
              "      <th>NA_Sales</th>\n",
              "      <th>EU_Sales</th>\n",
              "      <th>JP_Sales</th>\n",
              "      <th>Other_Sales</th>\n",
              "      <th>Global_Sales</th>\n",
              "      <th>Critic_Score</th>\n",
              "      <th>Critic_Count</th>\n",
              "      <th>User_Score</th>\n",
              "      <th>User_Count</th>\n",
              "      <th>Developer</th>\n",
              "      <th>Rating</th>\n",
              "    </tr>\n",
              "  </thead>\n",
              "  <tbody>\n",
              "    <tr>\n",
              "      <th>0</th>\n",
              "      <td>Wii Sports</td>\n",
              "      <td>Wii</td>\n",
              "      <td>2006.0</td>\n",
              "      <td>Sports</td>\n",
              "      <td>Nintendo</td>\n",
              "      <td>41.36</td>\n",
              "      <td>28.96</td>\n",
              "      <td>3.77</td>\n",
              "      <td>8.45</td>\n",
              "      <td>82.53</td>\n",
              "      <td>76.0</td>\n",
              "      <td>51.0</td>\n",
              "      <td>8</td>\n",
              "      <td>322.0</td>\n",
              "      <td>Nintendo</td>\n",
              "      <td>E</td>\n",
              "    </tr>\n",
              "    <tr>\n",
              "      <th>1</th>\n",
              "      <td>Super Mario Bros.</td>\n",
              "      <td>NES</td>\n",
              "      <td>1985.0</td>\n",
              "      <td>Platform</td>\n",
              "      <td>Nintendo</td>\n",
              "      <td>29.08</td>\n",
              "      <td>3.58</td>\n",
              "      <td>6.81</td>\n",
              "      <td>0.77</td>\n",
              "      <td>40.24</td>\n",
              "      <td>NaN</td>\n",
              "      <td>NaN</td>\n",
              "      <td>NaN</td>\n",
              "      <td>NaN</td>\n",
              "      <td>NaN</td>\n",
              "      <td>NaN</td>\n",
              "    </tr>\n",
              "    <tr>\n",
              "      <th>2</th>\n",
              "      <td>Mario Kart Wii</td>\n",
              "      <td>Wii</td>\n",
              "      <td>2008.0</td>\n",
              "      <td>Racing</td>\n",
              "      <td>Nintendo</td>\n",
              "      <td>15.68</td>\n",
              "      <td>12.76</td>\n",
              "      <td>3.79</td>\n",
              "      <td>3.29</td>\n",
              "      <td>35.52</td>\n",
              "      <td>82.0</td>\n",
              "      <td>73.0</td>\n",
              "      <td>8.3</td>\n",
              "      <td>709.0</td>\n",
              "      <td>Nintendo</td>\n",
              "      <td>E</td>\n",
              "    </tr>\n",
              "    <tr>\n",
              "      <th>3</th>\n",
              "      <td>Wii Sports Resort</td>\n",
              "      <td>Wii</td>\n",
              "      <td>2009.0</td>\n",
              "      <td>Sports</td>\n",
              "      <td>Nintendo</td>\n",
              "      <td>15.61</td>\n",
              "      <td>10.93</td>\n",
              "      <td>3.28</td>\n",
              "      <td>2.95</td>\n",
              "      <td>32.77</td>\n",
              "      <td>80.0</td>\n",
              "      <td>73.0</td>\n",
              "      <td>8</td>\n",
              "      <td>192.0</td>\n",
              "      <td>Nintendo</td>\n",
              "      <td>E</td>\n",
              "    </tr>\n",
              "    <tr>\n",
              "      <th>4</th>\n",
              "      <td>Pokemon Red/Pokemon Blue</td>\n",
              "      <td>GB</td>\n",
              "      <td>1996.0</td>\n",
              "      <td>Role-Playing</td>\n",
              "      <td>Nintendo</td>\n",
              "      <td>11.27</td>\n",
              "      <td>8.89</td>\n",
              "      <td>10.22</td>\n",
              "      <td>1.00</td>\n",
              "      <td>31.37</td>\n",
              "      <td>NaN</td>\n",
              "      <td>NaN</td>\n",
              "      <td>NaN</td>\n",
              "      <td>NaN</td>\n",
              "      <td>NaN</td>\n",
              "      <td>NaN</td>\n",
              "    </tr>\n",
              "  </tbody>\n",
              "</table>\n",
              "</div>"
            ],
            "text/plain": [
              "                       Name Platform  ...  Developer Rating\n",
              "0                Wii Sports      Wii  ...   Nintendo      E\n",
              "1         Super Mario Bros.      NES  ...        NaN    NaN\n",
              "2            Mario Kart Wii      Wii  ...   Nintendo      E\n",
              "3         Wii Sports Resort      Wii  ...   Nintendo      E\n",
              "4  Pokemon Red/Pokemon Blue       GB  ...        NaN    NaN\n",
              "\n",
              "[5 rows x 16 columns]"
            ]
          },
          "metadata": {
            "tags": []
          },
          "execution_count": 3
        }
      ]
    },
    {
      "cell_type": "code",
      "metadata": {
        "id": "0IAgGHCFv9G_",
        "colab_type": "code",
        "colab": {}
      },
      "source": [
        "df = df.dropna(subset=['Critic_Score'])"
      ],
      "execution_count": 0,
      "outputs": []
    },
    {
      "cell_type": "code",
      "metadata": {
        "id": "8Us74C1sv-2a",
        "colab_type": "code",
        "colab": {}
      },
      "source": [
        "df['High_Critic_Score'] = df['Critic_Score'] >= 80"
      ],
      "execution_count": 0,
      "outputs": []
    },
    {
      "cell_type": "code",
      "metadata": {
        "id": "54ibJX4Xd4gk",
        "colab_type": "code",
        "colab": {}
      },
      "source": [
        "import numpy as np\n",
        "\n",
        "def correct_user_score(score):\n",
        "  if score == 'tbd':\n",
        "    return np.NaN\n",
        "  \n",
        "  else:\n",
        "    return float(score)"
      ],
      "execution_count": 0,
      "outputs": []
    },
    {
      "cell_type": "code",
      "metadata": {
        "id": "XFLxS4iFdzkB",
        "colab_type": "code",
        "colab": {}
      },
      "source": [
        "df['User_Score'] = df['User_Score'].apply(correct_user_score)"
      ],
      "execution_count": 0,
      "outputs": []
    },
    {
      "cell_type": "code",
      "metadata": {
        "id": "Cz7KMX4JfVsR",
        "colab_type": "code",
        "colab": {}
      },
      "source": [
        "top_25_publishers = df['Publisher'].value_counts(ascending=False)[:25].index\n",
        "\n",
        "def publisher_top_25(publisher):\n",
        "  if publisher in top_25_publishers:\n",
        "    return publisher\n",
        "  else:\n",
        "    return \"Other\""
      ],
      "execution_count": 0,
      "outputs": []
    },
    {
      "cell_type": "code",
      "metadata": {
        "id": "ka1zjh0kfjLB",
        "colab_type": "code",
        "colab": {}
      },
      "source": [
        "df['Publisher'] = df['Publisher'].apply(publisher_top_25)"
      ],
      "execution_count": 0,
      "outputs": []
    },
    {
      "cell_type": "code",
      "metadata": {
        "id": "1tAlFkxSluFt",
        "colab_type": "code",
        "colab": {}
      },
      "source": [
        "df['Developer'] = df['Developer'].fillna(\"Missing\")"
      ],
      "execution_count": 0,
      "outputs": []
    },
    {
      "cell_type": "code",
      "metadata": {
        "id": "V5cHG3itfxaP",
        "colab_type": "code",
        "colab": {}
      },
      "source": [
        "ea  = df['Developer'].str.contains(\"EA \")\n",
        "ubisoft = df['Developer'].str.contains(\"Ubisoft\")\n",
        "\n",
        "df.loc[ea, 'Developer'] = \"Electronic Arts\"\n",
        "df.loc[ubisoft, 'Developer'] = 'Ubisoft'"
      ],
      "execution_count": 0,
      "outputs": []
    },
    {
      "cell_type": "code",
      "metadata": {
        "id": "HUhv-8rIfMuI",
        "colab_type": "code",
        "colab": {}
      },
      "source": [
        "top_25_developers = df['Developer'].value_counts(ascending=False)[:25].index\n",
        "\n",
        "def developer_top_25(developer):\n",
        "  if developer in top_25_developers:\n",
        "    return developer\n",
        "  else:\n",
        "    return \"Other\"\n",
        "\n",
        "\n",
        "df['Developer'] = df['Developer'].apply(developer_top_25)"
      ],
      "execution_count": 0,
      "outputs": []
    },
    {
      "cell_type": "code",
      "metadata": {
        "id": "NjvSvToli5fB",
        "colab_type": "code",
        "outputId": "619fe9ca-ceff-442e-c1b0-0e656ad80cfe",
        "colab": {
          "base_uri": "https://localhost:8080/",
          "height": 459
        }
      },
      "source": [
        "df['Year_of_Release'].value_counts()"
      ],
      "execution_count": 14,
      "outputs": [
        {
          "output_type": "execute_result",
          "data": {
            "text/plain": [
              "2008.0    715\n",
              "2007.0    692\n",
              "2005.0    655\n",
              "2009.0    651\n",
              "2002.0    627\n",
              "2006.0    620\n",
              "2003.0    585\n",
              "2004.0    561\n",
              "2011.0    500\n",
              "2010.0    500\n",
              "2001.0    326\n",
              "2012.0    321\n",
              "2013.0    273\n",
              "2014.0    261\n",
              "2016.0    232\n",
              "2015.0    225\n",
              "2000.0    143\n",
              "1999.0     39\n",
              "1998.0     28\n",
              "1997.0     17\n",
              "1996.0      8\n",
              "1994.0      1\n",
              "1985.0      1\n",
              "1992.0      1\n",
              "1988.0      1\n",
              "Name: Year_of_Release, dtype: int64"
            ]
          },
          "metadata": {
            "tags": []
          },
          "execution_count": 14
        }
      ]
    },
    {
      "cell_type": "code",
      "metadata": {
        "id": "hhqQNXiVjY0y",
        "colab_type": "code",
        "colab": {}
      },
      "source": [
        "train = df[(df['Year_of_Release']!= 2015) & (df['Year_of_Release'] != 2016)]\n",
        "val = df[df['Year_of_Release']==2015]\n",
        "test = df[df['Year_of_Release']==2016]"
      ],
      "execution_count": 0,
      "outputs": []
    },
    {
      "cell_type": "code",
      "metadata": {
        "id": "kOKZZXAJkAHL",
        "colab_type": "code",
        "outputId": "6fad7b36-cd21-47c5-e45e-990c93be7b59",
        "colab": {
          "base_uri": "https://localhost:8080/",
          "height": 34
        }
      },
      "source": [
        "train.shape, val.shape, test.shape"
      ],
      "execution_count": 16,
      "outputs": [
        {
          "output_type": "execute_result",
          "data": {
            "text/plain": [
              "((7680, 17), (225, 17), (232, 17))"
            ]
          },
          "metadata": {
            "tags": []
          },
          "execution_count": 16
        }
      ]
    },
    {
      "cell_type": "code",
      "metadata": {
        "id": "jWnviaq1mCOU",
        "colab_type": "code",
        "outputId": "fa67b246-d465-46ec-e8fa-f0b4206b3a47",
        "colab": {
          "base_uri": "https://localhost:8080/",
          "height": 80
        }
      },
      "source": [
        "train.head(1)"
      ],
      "execution_count": 17,
      "outputs": [
        {
          "output_type": "execute_result",
          "data": {
            "text/html": [
              "<div>\n",
              "<style scoped>\n",
              "    .dataframe tbody tr th:only-of-type {\n",
              "        vertical-align: middle;\n",
              "    }\n",
              "\n",
              "    .dataframe tbody tr th {\n",
              "        vertical-align: top;\n",
              "    }\n",
              "\n",
              "    .dataframe thead th {\n",
              "        text-align: right;\n",
              "    }\n",
              "</style>\n",
              "<table border=\"1\" class=\"dataframe\">\n",
              "  <thead>\n",
              "    <tr style=\"text-align: right;\">\n",
              "      <th></th>\n",
              "      <th>Name</th>\n",
              "      <th>Platform</th>\n",
              "      <th>Year_of_Release</th>\n",
              "      <th>Genre</th>\n",
              "      <th>Publisher</th>\n",
              "      <th>NA_Sales</th>\n",
              "      <th>EU_Sales</th>\n",
              "      <th>JP_Sales</th>\n",
              "      <th>Other_Sales</th>\n",
              "      <th>Global_Sales</th>\n",
              "      <th>Critic_Score</th>\n",
              "      <th>Critic_Count</th>\n",
              "      <th>User_Score</th>\n",
              "      <th>User_Count</th>\n",
              "      <th>Developer</th>\n",
              "      <th>Rating</th>\n",
              "      <th>High_Critic_Score</th>\n",
              "    </tr>\n",
              "  </thead>\n",
              "  <tbody>\n",
              "    <tr>\n",
              "      <th>0</th>\n",
              "      <td>Wii Sports</td>\n",
              "      <td>Wii</td>\n",
              "      <td>2006.0</td>\n",
              "      <td>Sports</td>\n",
              "      <td>Nintendo</td>\n",
              "      <td>41.36</td>\n",
              "      <td>28.96</td>\n",
              "      <td>3.77</td>\n",
              "      <td>8.45</td>\n",
              "      <td>82.53</td>\n",
              "      <td>76.0</td>\n",
              "      <td>51.0</td>\n",
              "      <td>8.0</td>\n",
              "      <td>322.0</td>\n",
              "      <td>Nintendo</td>\n",
              "      <td>E</td>\n",
              "      <td>False</td>\n",
              "    </tr>\n",
              "  </tbody>\n",
              "</table>\n",
              "</div>"
            ],
            "text/plain": [
              "         Name Platform  Year_of_Release  ... Developer Rating  High_Critic_Score\n",
              "0  Wii Sports      Wii           2006.0  ...  Nintendo      E              False\n",
              "\n",
              "[1 rows x 17 columns]"
            ]
          },
          "metadata": {
            "tags": []
          },
          "execution_count": 17
        }
      ]
    },
    {
      "cell_type": "code",
      "metadata": {
        "id": "sqXMWyWkk_hj",
        "colab_type": "code",
        "colab": {
          "base_uri": "https://localhost:8080/",
          "height": 272
        },
        "outputId": "caabcd64-656f-4ce0-ead1-732bc7e111f5"
      },
      "source": [
        "!pip install category_encoders==2.*"
      ],
      "execution_count": 18,
      "outputs": [
        {
          "output_type": "stream",
          "text": [
            "Collecting category_encoders==2.*\n",
            "\u001b[?25l  Downloading https://files.pythonhosted.org/packages/44/57/fcef41c248701ee62e8325026b90c432adea35555cbc870aff9cfba23727/category_encoders-2.2.2-py2.py3-none-any.whl (80kB)\n",
            "\r\u001b[K     |████                            | 10kB 16.6MB/s eta 0:00:01\r\u001b[K     |████████▏                       | 20kB 1.7MB/s eta 0:00:01\r\u001b[K     |████████████▏                   | 30kB 2.6MB/s eta 0:00:01\r\u001b[K     |████████████████▎               | 40kB 1.7MB/s eta 0:00:01\r\u001b[K     |████████████████████▎           | 51kB 2.1MB/s eta 0:00:01\r\u001b[K     |████████████████████████▍       | 61kB 2.5MB/s eta 0:00:01\r\u001b[K     |████████████████████████████▍   | 71kB 2.9MB/s eta 0:00:01\r\u001b[K     |████████████████████████████████| 81kB 2.3MB/s \n",
            "\u001b[?25hRequirement already satisfied: statsmodels>=0.9.0 in /usr/local/lib/python3.6/dist-packages (from category_encoders==2.*) (0.10.2)\n",
            "Requirement already satisfied: scikit-learn>=0.20.0 in /usr/local/lib/python3.6/dist-packages (from category_encoders==2.*) (0.22.2.post1)\n",
            "Requirement already satisfied: patsy>=0.5.1 in /usr/local/lib/python3.6/dist-packages (from category_encoders==2.*) (0.5.1)\n",
            "Requirement already satisfied: numpy>=1.14.0 in /usr/local/lib/python3.6/dist-packages (from category_encoders==2.*) (1.18.3)\n",
            "Requirement already satisfied: scipy>=1.0.0 in /usr/local/lib/python3.6/dist-packages (from category_encoders==2.*) (1.4.1)\n",
            "Requirement already satisfied: pandas>=0.21.1 in /usr/local/lib/python3.6/dist-packages (from category_encoders==2.*) (1.0.3)\n",
            "Requirement already satisfied: joblib>=0.11 in /usr/local/lib/python3.6/dist-packages (from scikit-learn>=0.20.0->category_encoders==2.*) (0.14.1)\n",
            "Requirement already satisfied: six in /usr/local/lib/python3.6/dist-packages (from patsy>=0.5.1->category_encoders==2.*) (1.12.0)\n",
            "Requirement already satisfied: pytz>=2017.2 in /usr/local/lib/python3.6/dist-packages (from pandas>=0.21.1->category_encoders==2.*) (2018.9)\n",
            "Requirement already satisfied: python-dateutil>=2.6.1 in /usr/local/lib/python3.6/dist-packages (from pandas>=0.21.1->category_encoders==2.*) (2.8.1)\n",
            "Installing collected packages: category-encoders\n",
            "Successfully installed category-encoders-2.2.2\n"
          ],
          "name": "stdout"
        }
      ]
    },
    {
      "cell_type": "code",
      "metadata": {
        "id": "UQgHeU9flZlO",
        "colab_type": "code",
        "colab": {}
      },
      "source": [
        "target = 'High_Critic_Score'\n",
        "\n",
        "X_train = train.drop(columns=['Name', 'Critic_Score', target])\n",
        "y_train = train[target]\n",
        "\n",
        "X_val = val.drop(columns=['Name', 'Critic_Score', target])\n",
        "y_val = val[target]\n"
      ],
      "execution_count": 0,
      "outputs": []
    },
    {
      "cell_type": "code",
      "metadata": {
        "id": "flKR_S1fkFI0",
        "colab_type": "code",
        "outputId": "3fc423b8-163b-4f08-cd8c-4f1a7ce4e637",
        "colab": {
          "base_uri": "https://localhost:8080/",
          "height": 68
        }
      },
      "source": [
        "import category_encoders as ce\n",
        "from sklearn.impute import SimpleImputer\n",
        "from sklearn.pipeline import make_pipeline\n",
        "from sklearn.ensemble import RandomForestClassifier\n",
        "\n",
        "\n",
        "pipeline = make_pipeline(\n",
        "    ce.OneHotEncoder(use_cat_names=True),\n",
        "    SimpleImputer(),\n",
        "    RandomForestClassifier(n_estimators=100, n_jobs=-1, random_state=10)\n",
        ")\n",
        "\n",
        "\n",
        "pipeline.fit(X_train, y_train)\n",
        "print(f'Val score (acc): {pipeline.score(X_val, y_val)}')"
      ],
      "execution_count": 20,
      "outputs": [
        {
          "output_type": "stream",
          "text": [
            "/usr/local/lib/python3.6/dist-packages/statsmodels/tools/_testing.py:19: FutureWarning: pandas.util.testing is deprecated. Use the functions in the public API at pandas.testing instead.\n",
            "  import pandas.util.testing as tm\n"
          ],
          "name": "stderr"
        },
        {
          "output_type": "stream",
          "text": [
            "Val score (acc): 0.7733333333333333\n"
          ],
          "name": "stdout"
        }
      ]
    },
    {
      "cell_type": "code",
      "metadata": {
        "id": "v2e-4EuGxT0_",
        "colab_type": "code",
        "colab": {
          "base_uri": "https://localhost:8080/",
          "height": 1000
        },
        "outputId": "67c3e5f2-b76f-4eab-dc8b-48a073c655b5"
      },
      "source": [
        "encoder = ce.OneHotEncoder(use_cat_names=True)\n",
        "X_train_encoded = encoder.fit_transform(X_train)\n",
        "X_val_encoded = encoder.transform(X_val)\n",
        "\n",
        "model = XGBClassifier(\n",
        "    n_estimators=1000, # upper threshold\n",
        "    max_depth=3,\n",
        "    learning_rate=0.5,\n",
        "    n_jobs=-1\n",
        ")\n",
        "\n",
        "eval_set = [(X_train_encoded, y_train),\n",
        "            (X_val_encoded, y_val)\n",
        "           ] \n",
        "\n",
        "\n",
        "model.fit(X_train_encoded, \n",
        "          y_train,\n",
        "          eval_set=eval_set,\n",
        "          eval_metric='mae',\n",
        "          early_stopping_rounds=50)"
      ],
      "execution_count": 54,
      "outputs": [
        {
          "output_type": "stream",
          "text": [
            "[0]\tvalidation_0-mae:0.379618\tvalidation_1-mae:0.411925\n",
            "Multiple eval metrics have been passed: 'validation_1-mae' will be used for early stopping.\n",
            "\n",
            "Will train until validation_1-mae hasn't improved in 50 rounds.\n",
            "[1]\tvalidation_0-mae:0.315951\tvalidation_1-mae:0.371493\n",
            "[2]\tvalidation_0-mae:0.280228\tvalidation_1-mae:0.345941\n",
            "[3]\tvalidation_0-mae:0.256885\tvalidation_1-mae:0.330159\n",
            "[4]\tvalidation_0-mae:0.241847\tvalidation_1-mae:0.312095\n",
            "[5]\tvalidation_0-mae:0.230555\tvalidation_1-mae:0.298239\n",
            "[6]\tvalidation_0-mae:0.224179\tvalidation_1-mae:0.29588\n",
            "[7]\tvalidation_0-mae:0.218301\tvalidation_1-mae:0.29254\n",
            "[8]\tvalidation_0-mae:0.214736\tvalidation_1-mae:0.288623\n",
            "[9]\tvalidation_0-mae:0.21116\tvalidation_1-mae:0.284052\n",
            "[10]\tvalidation_0-mae:0.205969\tvalidation_1-mae:0.283359\n",
            "[11]\tvalidation_0-mae:0.204056\tvalidation_1-mae:0.282149\n",
            "[12]\tvalidation_0-mae:0.201976\tvalidation_1-mae:0.278078\n",
            "[13]\tvalidation_0-mae:0.199458\tvalidation_1-mae:0.276131\n",
            "[14]\tvalidation_0-mae:0.196703\tvalidation_1-mae:0.27618\n",
            "[15]\tvalidation_0-mae:0.194371\tvalidation_1-mae:0.273744\n",
            "[16]\tvalidation_0-mae:0.193211\tvalidation_1-mae:0.274568\n",
            "[17]\tvalidation_0-mae:0.191926\tvalidation_1-mae:0.273895\n",
            "[18]\tvalidation_0-mae:0.190474\tvalidation_1-mae:0.272975\n",
            "[19]\tvalidation_0-mae:0.189294\tvalidation_1-mae:0.273324\n",
            "[20]\tvalidation_0-mae:0.187752\tvalidation_1-mae:0.269863\n",
            "[21]\tvalidation_0-mae:0.1857\tvalidation_1-mae:0.266489\n",
            "[22]\tvalidation_0-mae:0.18385\tvalidation_1-mae:0.265962\n",
            "[23]\tvalidation_0-mae:0.183113\tvalidation_1-mae:0.265258\n",
            "[24]\tvalidation_0-mae:0.182942\tvalidation_1-mae:0.265333\n",
            "[25]\tvalidation_0-mae:0.180987\tvalidation_1-mae:0.263446\n",
            "[26]\tvalidation_0-mae:0.180568\tvalidation_1-mae:0.263387\n",
            "[27]\tvalidation_0-mae:0.179598\tvalidation_1-mae:0.263403\n",
            "[28]\tvalidation_0-mae:0.178557\tvalidation_1-mae:0.261385\n",
            "[29]\tvalidation_0-mae:0.177797\tvalidation_1-mae:0.260924\n",
            "[30]\tvalidation_0-mae:0.177214\tvalidation_1-mae:0.260206\n",
            "[31]\tvalidation_0-mae:0.175988\tvalidation_1-mae:0.261116\n",
            "[32]\tvalidation_0-mae:0.175238\tvalidation_1-mae:0.261184\n",
            "[33]\tvalidation_0-mae:0.174427\tvalidation_1-mae:0.259103\n",
            "[34]\tvalidation_0-mae:0.173093\tvalidation_1-mae:0.258512\n",
            "[35]\tvalidation_0-mae:0.172777\tvalidation_1-mae:0.257782\n",
            "[36]\tvalidation_0-mae:0.17223\tvalidation_1-mae:0.257557\n",
            "[37]\tvalidation_0-mae:0.171676\tvalidation_1-mae:0.256593\n",
            "[38]\tvalidation_0-mae:0.17155\tvalidation_1-mae:0.255195\n",
            "[39]\tvalidation_0-mae:0.170753\tvalidation_1-mae:0.256957\n",
            "[40]\tvalidation_0-mae:0.169723\tvalidation_1-mae:0.254848\n",
            "[41]\tvalidation_0-mae:0.168738\tvalidation_1-mae:0.254506\n",
            "[42]\tvalidation_0-mae:0.168231\tvalidation_1-mae:0.254195\n",
            "[43]\tvalidation_0-mae:0.167824\tvalidation_1-mae:0.253617\n",
            "[44]\tvalidation_0-mae:0.167026\tvalidation_1-mae:0.253252\n",
            "[45]\tvalidation_0-mae:0.166728\tvalidation_1-mae:0.253102\n",
            "[46]\tvalidation_0-mae:0.166268\tvalidation_1-mae:0.250443\n",
            "[47]\tvalidation_0-mae:0.165613\tvalidation_1-mae:0.25012\n",
            "[48]\tvalidation_0-mae:0.165097\tvalidation_1-mae:0.250538\n",
            "[49]\tvalidation_0-mae:0.164271\tvalidation_1-mae:0.251093\n",
            "[50]\tvalidation_0-mae:0.163436\tvalidation_1-mae:0.251832\n",
            "[51]\tvalidation_0-mae:0.162376\tvalidation_1-mae:0.252387\n",
            "[52]\tvalidation_0-mae:0.161452\tvalidation_1-mae:0.252892\n",
            "[53]\tvalidation_0-mae:0.160697\tvalidation_1-mae:0.250889\n",
            "[54]\tvalidation_0-mae:0.159914\tvalidation_1-mae:0.252272\n",
            "[55]\tvalidation_0-mae:0.159451\tvalidation_1-mae:0.252517\n",
            "[56]\tvalidation_0-mae:0.15887\tvalidation_1-mae:0.25424\n",
            "[57]\tvalidation_0-mae:0.158721\tvalidation_1-mae:0.253707\n",
            "[58]\tvalidation_0-mae:0.158557\tvalidation_1-mae:0.253959\n",
            "[59]\tvalidation_0-mae:0.157567\tvalidation_1-mae:0.253665\n",
            "[60]\tvalidation_0-mae:0.156746\tvalidation_1-mae:0.253812\n",
            "[61]\tvalidation_0-mae:0.156157\tvalidation_1-mae:0.253074\n",
            "[62]\tvalidation_0-mae:0.155095\tvalidation_1-mae:0.251849\n",
            "[63]\tvalidation_0-mae:0.154641\tvalidation_1-mae:0.249972\n",
            "[64]\tvalidation_0-mae:0.153934\tvalidation_1-mae:0.250445\n",
            "[65]\tvalidation_0-mae:0.153638\tvalidation_1-mae:0.249813\n",
            "[66]\tvalidation_0-mae:0.152774\tvalidation_1-mae:0.248987\n",
            "[67]\tvalidation_0-mae:0.152431\tvalidation_1-mae:0.248898\n",
            "[68]\tvalidation_0-mae:0.151864\tvalidation_1-mae:0.249285\n",
            "[69]\tvalidation_0-mae:0.15109\tvalidation_1-mae:0.248473\n",
            "[70]\tvalidation_0-mae:0.150262\tvalidation_1-mae:0.248849\n",
            "[71]\tvalidation_0-mae:0.149851\tvalidation_1-mae:0.247691\n",
            "[72]\tvalidation_0-mae:0.149566\tvalidation_1-mae:0.24668\n",
            "[73]\tvalidation_0-mae:0.149019\tvalidation_1-mae:0.2453\n",
            "[74]\tvalidation_0-mae:0.148394\tvalidation_1-mae:0.245358\n",
            "[75]\tvalidation_0-mae:0.147905\tvalidation_1-mae:0.245077\n",
            "[76]\tvalidation_0-mae:0.147856\tvalidation_1-mae:0.245479\n",
            "[77]\tvalidation_0-mae:0.147215\tvalidation_1-mae:0.24737\n",
            "[78]\tvalidation_0-mae:0.147027\tvalidation_1-mae:0.247264\n",
            "[79]\tvalidation_0-mae:0.146697\tvalidation_1-mae:0.247365\n",
            "[80]\tvalidation_0-mae:0.14634\tvalidation_1-mae:0.246641\n",
            "[81]\tvalidation_0-mae:0.146243\tvalidation_1-mae:0.246869\n",
            "[82]\tvalidation_0-mae:0.145881\tvalidation_1-mae:0.245812\n",
            "[83]\tvalidation_0-mae:0.145603\tvalidation_1-mae:0.244949\n",
            "[84]\tvalidation_0-mae:0.145116\tvalidation_1-mae:0.244007\n",
            "[85]\tvalidation_0-mae:0.144642\tvalidation_1-mae:0.246194\n",
            "[86]\tvalidation_0-mae:0.144197\tvalidation_1-mae:0.24563\n",
            "[87]\tvalidation_0-mae:0.143978\tvalidation_1-mae:0.244802\n",
            "[88]\tvalidation_0-mae:0.143555\tvalidation_1-mae:0.244954\n",
            "[89]\tvalidation_0-mae:0.143164\tvalidation_1-mae:0.245235\n",
            "[90]\tvalidation_0-mae:0.142944\tvalidation_1-mae:0.242777\n",
            "[91]\tvalidation_0-mae:0.14275\tvalidation_1-mae:0.242609\n",
            "[92]\tvalidation_0-mae:0.142521\tvalidation_1-mae:0.241883\n",
            "[93]\tvalidation_0-mae:0.142102\tvalidation_1-mae:0.242897\n",
            "[94]\tvalidation_0-mae:0.141175\tvalidation_1-mae:0.242466\n",
            "[95]\tvalidation_0-mae:0.140818\tvalidation_1-mae:0.240927\n",
            "[96]\tvalidation_0-mae:0.140145\tvalidation_1-mae:0.239934\n",
            "[97]\tvalidation_0-mae:0.139672\tvalidation_1-mae:0.238987\n",
            "[98]\tvalidation_0-mae:0.139436\tvalidation_1-mae:0.239516\n",
            "[99]\tvalidation_0-mae:0.138541\tvalidation_1-mae:0.238988\n",
            "[100]\tvalidation_0-mae:0.138164\tvalidation_1-mae:0.239624\n",
            "[101]\tvalidation_0-mae:0.137841\tvalidation_1-mae:0.239802\n",
            "[102]\tvalidation_0-mae:0.137697\tvalidation_1-mae:0.239876\n",
            "[103]\tvalidation_0-mae:0.137162\tvalidation_1-mae:0.240077\n",
            "[104]\tvalidation_0-mae:0.136963\tvalidation_1-mae:0.240523\n",
            "[105]\tvalidation_0-mae:0.136435\tvalidation_1-mae:0.240229\n",
            "[106]\tvalidation_0-mae:0.136054\tvalidation_1-mae:0.239983\n",
            "[107]\tvalidation_0-mae:0.135482\tvalidation_1-mae:0.240273\n",
            "[108]\tvalidation_0-mae:0.134901\tvalidation_1-mae:0.240099\n",
            "[109]\tvalidation_0-mae:0.1345\tvalidation_1-mae:0.239762\n",
            "[110]\tvalidation_0-mae:0.134188\tvalidation_1-mae:0.240032\n",
            "[111]\tvalidation_0-mae:0.133662\tvalidation_1-mae:0.241502\n",
            "[112]\tvalidation_0-mae:0.13341\tvalidation_1-mae:0.242742\n",
            "[113]\tvalidation_0-mae:0.133104\tvalidation_1-mae:0.242961\n",
            "[114]\tvalidation_0-mae:0.132893\tvalidation_1-mae:0.243015\n",
            "[115]\tvalidation_0-mae:0.132732\tvalidation_1-mae:0.242611\n",
            "[116]\tvalidation_0-mae:0.132339\tvalidation_1-mae:0.242524\n",
            "[117]\tvalidation_0-mae:0.132255\tvalidation_1-mae:0.242639\n",
            "[118]\tvalidation_0-mae:0.131897\tvalidation_1-mae:0.241687\n",
            "[119]\tvalidation_0-mae:0.131425\tvalidation_1-mae:0.241276\n",
            "[120]\tvalidation_0-mae:0.131117\tvalidation_1-mae:0.240878\n",
            "[121]\tvalidation_0-mae:0.131007\tvalidation_1-mae:0.240823\n",
            "[122]\tvalidation_0-mae:0.130737\tvalidation_1-mae:0.240362\n",
            "[123]\tvalidation_0-mae:0.130572\tvalidation_1-mae:0.240151\n",
            "[124]\tvalidation_0-mae:0.130417\tvalidation_1-mae:0.240102\n",
            "[125]\tvalidation_0-mae:0.130254\tvalidation_1-mae:0.240008\n",
            "[126]\tvalidation_0-mae:0.130095\tvalidation_1-mae:0.238756\n",
            "[127]\tvalidation_0-mae:0.129905\tvalidation_1-mae:0.238581\n",
            "[128]\tvalidation_0-mae:0.129775\tvalidation_1-mae:0.23877\n",
            "[129]\tvalidation_0-mae:0.129488\tvalidation_1-mae:0.238567\n",
            "[130]\tvalidation_0-mae:0.129062\tvalidation_1-mae:0.237386\n",
            "[131]\tvalidation_0-mae:0.128846\tvalidation_1-mae:0.237366\n",
            "[132]\tvalidation_0-mae:0.12822\tvalidation_1-mae:0.237256\n",
            "[133]\tvalidation_0-mae:0.127809\tvalidation_1-mae:0.237529\n",
            "[134]\tvalidation_0-mae:0.127571\tvalidation_1-mae:0.237639\n",
            "[135]\tvalidation_0-mae:0.127319\tvalidation_1-mae:0.237739\n",
            "[136]\tvalidation_0-mae:0.127176\tvalidation_1-mae:0.238194\n",
            "[137]\tvalidation_0-mae:0.126792\tvalidation_1-mae:0.237508\n",
            "[138]\tvalidation_0-mae:0.12674\tvalidation_1-mae:0.237462\n",
            "[139]\tvalidation_0-mae:0.126276\tvalidation_1-mae:0.236179\n",
            "[140]\tvalidation_0-mae:0.126107\tvalidation_1-mae:0.236361\n",
            "[141]\tvalidation_0-mae:0.126065\tvalidation_1-mae:0.236462\n",
            "[142]\tvalidation_0-mae:0.125729\tvalidation_1-mae:0.236383\n",
            "[143]\tvalidation_0-mae:0.125669\tvalidation_1-mae:0.236103\n",
            "[144]\tvalidation_0-mae:0.125261\tvalidation_1-mae:0.236206\n",
            "[145]\tvalidation_0-mae:0.124633\tvalidation_1-mae:0.236108\n",
            "[146]\tvalidation_0-mae:0.124402\tvalidation_1-mae:0.236504\n",
            "[147]\tvalidation_0-mae:0.123906\tvalidation_1-mae:0.237224\n",
            "[148]\tvalidation_0-mae:0.123477\tvalidation_1-mae:0.236344\n",
            "[149]\tvalidation_0-mae:0.123008\tvalidation_1-mae:0.236879\n",
            "[150]\tvalidation_0-mae:0.122733\tvalidation_1-mae:0.23653\n",
            "[151]\tvalidation_0-mae:0.122514\tvalidation_1-mae:0.237045\n",
            "[152]\tvalidation_0-mae:0.122122\tvalidation_1-mae:0.2372\n",
            "[153]\tvalidation_0-mae:0.121637\tvalidation_1-mae:0.236361\n",
            "[154]\tvalidation_0-mae:0.12126\tvalidation_1-mae:0.236121\n",
            "[155]\tvalidation_0-mae:0.120972\tvalidation_1-mae:0.236652\n",
            "[156]\tvalidation_0-mae:0.120731\tvalidation_1-mae:0.237553\n",
            "[157]\tvalidation_0-mae:0.12019\tvalidation_1-mae:0.237698\n",
            "[158]\tvalidation_0-mae:0.119853\tvalidation_1-mae:0.238318\n",
            "[159]\tvalidation_0-mae:0.119678\tvalidation_1-mae:0.238933\n",
            "[160]\tvalidation_0-mae:0.119413\tvalidation_1-mae:0.238797\n",
            "[161]\tvalidation_0-mae:0.119026\tvalidation_1-mae:0.238922\n",
            "[162]\tvalidation_0-mae:0.118908\tvalidation_1-mae:0.238818\n",
            "[163]\tvalidation_0-mae:0.118528\tvalidation_1-mae:0.239132\n",
            "[164]\tvalidation_0-mae:0.118379\tvalidation_1-mae:0.238272\n",
            "[165]\tvalidation_0-mae:0.118167\tvalidation_1-mae:0.238684\n",
            "[166]\tvalidation_0-mae:0.118064\tvalidation_1-mae:0.238374\n",
            "[167]\tvalidation_0-mae:0.117899\tvalidation_1-mae:0.238134\n",
            "[168]\tvalidation_0-mae:0.117537\tvalidation_1-mae:0.23847\n",
            "[169]\tvalidation_0-mae:0.117247\tvalidation_1-mae:0.238321\n",
            "[170]\tvalidation_0-mae:0.117159\tvalidation_1-mae:0.23848\n",
            "[171]\tvalidation_0-mae:0.116791\tvalidation_1-mae:0.238735\n",
            "[172]\tvalidation_0-mae:0.116608\tvalidation_1-mae:0.238455\n",
            "[173]\tvalidation_0-mae:0.116379\tvalidation_1-mae:0.237819\n",
            "[174]\tvalidation_0-mae:0.116192\tvalidation_1-mae:0.239794\n",
            "[175]\tvalidation_0-mae:0.115845\tvalidation_1-mae:0.238686\n",
            "[176]\tvalidation_0-mae:0.115345\tvalidation_1-mae:0.2395\n",
            "[177]\tvalidation_0-mae:0.115262\tvalidation_1-mae:0.239468\n",
            "[178]\tvalidation_0-mae:0.114959\tvalidation_1-mae:0.239401\n",
            "[179]\tvalidation_0-mae:0.114851\tvalidation_1-mae:0.239255\n",
            "[180]\tvalidation_0-mae:0.114683\tvalidation_1-mae:0.239069\n",
            "[181]\tvalidation_0-mae:0.11432\tvalidation_1-mae:0.239428\n",
            "[182]\tvalidation_0-mae:0.114234\tvalidation_1-mae:0.239336\n",
            "[183]\tvalidation_0-mae:0.114204\tvalidation_1-mae:0.238486\n",
            "[184]\tvalidation_0-mae:0.113865\tvalidation_1-mae:0.238851\n",
            "[185]\tvalidation_0-mae:0.113547\tvalidation_1-mae:0.238949\n",
            "[186]\tvalidation_0-mae:0.113218\tvalidation_1-mae:0.2385\n",
            "[187]\tvalidation_0-mae:0.113054\tvalidation_1-mae:0.23884\n",
            "[188]\tvalidation_0-mae:0.112764\tvalidation_1-mae:0.238897\n",
            "[189]\tvalidation_0-mae:0.112553\tvalidation_1-mae:0.238848\n",
            "[190]\tvalidation_0-mae:0.11223\tvalidation_1-mae:0.238566\n",
            "[191]\tvalidation_0-mae:0.111676\tvalidation_1-mae:0.238702\n",
            "[192]\tvalidation_0-mae:0.11137\tvalidation_1-mae:0.240382\n",
            "[193]\tvalidation_0-mae:0.110951\tvalidation_1-mae:0.240578\n",
            "Stopping. Best iteration:\n",
            "[143]\tvalidation_0-mae:0.125669\tvalidation_1-mae:0.236103\n",
            "\n"
          ],
          "name": "stdout"
        },
        {
          "output_type": "execute_result",
          "data": {
            "text/plain": [
              "XGBClassifier(base_score=0.5, booster='gbtree', colsample_bylevel=1,\n",
              "              colsample_bynode=1, colsample_bytree=1, gamma=0,\n",
              "              learning_rate=0.5, max_delta_step=0, max_depth=3,\n",
              "              min_child_weight=1, missing=None, n_estimators=1000, n_jobs=-1,\n",
              "              nthread=None, objective='binary:logistic', random_state=0,\n",
              "              reg_alpha=0, reg_lambda=1, scale_pos_weight=1, seed=None,\n",
              "              silent=None, subsample=1, verbosity=1)"
            ]
          },
          "metadata": {
            "tags": []
          },
          "execution_count": 54
        }
      ]
    },
    {
      "cell_type": "code",
      "metadata": {
        "id": "chFALFbw0ltp",
        "colab_type": "code",
        "colab": {
          "base_uri": "https://localhost:8080/",
          "height": 34
        },
        "outputId": "139a9a4d-d60b-4fd7-b92d-5fed3dad2b5d"
      },
      "source": [
        "from sklearn.metrics import accuracy_score\n",
        "\n",
        "y_pred = model.predict(X_val_encoded)\n",
        "accuracy_score(y_val, y_pred)"
      ],
      "execution_count": 55,
      "outputs": [
        {
          "output_type": "execute_result",
          "data": {
            "text/plain": [
              "0.7955555555555556"
            ]
          },
          "metadata": {
            "tags": []
          },
          "execution_count": 55
        }
      ]
    }
  ]
}